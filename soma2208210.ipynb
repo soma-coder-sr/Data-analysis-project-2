{
 "cells": [
  {
   "cell_type": "code",
   "execution_count": 1,
   "id": "7536cf47-440e-4f24-aef5-c348e13753cf",
   "metadata": {},
   "outputs": [
    {
     "name": "stdout",
     "output_type": "stream",
     "text": [
      "Hello World! Python Is Great.\n"
     ]
    }
   ],
   "source": [
    "def capitalize_words(sentence):\n",
    "    return ' '.join(word[0].upper() + word[1:].lower() for word in sentence.split())\n",
    "\n",
    "print(capitalize_words(\"hello world! python is great.\"))\n"
   ]
  },
  {
   "cell_type": "code",
   "execution_count": 2,
   "id": "40249d1c-178e-4031-9373-ac11080e8f37",
   "metadata": {},
   "outputs": [
    {
     "name": "stdout",
     "output_type": "stream",
     "text": [
      "3\n"
     ]
    }
   ],
   "source": [
    "def count_vowels(text):\n",
    "    return sum(1 for char in text if char.lower() in \"aeiou\")\n",
    "\n",
    "print(count_vowels(\"Hello World!\"))\n"
   ]
  },
  {
   "cell_type": "code",
   "execution_count": 3,
   "id": "3139be90-35eb-45d9-982f-fc517cc7d9fc",
   "metadata": {},
   "outputs": [
    {
     "name": "stdout",
     "output_type": "stream",
     "text": [
      "Grade B\n"
     ]
    }
   ],
   "source": [
    "def grade_system(marks):\n",
    "    if marks >= 90:\n",
    "        return \"Grade A\"\n",
    "    elif marks >= 75:\n",
    "        return \"Grade B\"\n",
    "    elif marks >= 60:\n",
    "        return \"Grade C\"\n",
    "    else:\n",
    "        return \"Grade F\"\n",
    "\n",
    "print(grade_system(85))\n"
   ]
  },
  {
   "cell_type": "code",
   "execution_count": 4,
   "id": "4f654be4-17fd-419c-8c74-d44432c33d34",
   "metadata": {},
   "outputs": [
    {
     "name": "stdout",
     "output_type": "stream",
     "text": [
      "2 3 5 7 11 13 17 19 23 29 31 37 41 43 47 53 59 61 67 71 73 79 83 89 97 "
     ]
    }
   ],
   "source": [
    "def print_primes():\n",
    "    for num in range(2, 101):\n",
    "        if all(num % i != 0 for i in range(2, int(num**0.5) + 1)):\n",
    "            print(num, end=\" \")\n",
    "\n",
    "print_primes()\n"
   ]
  },
  {
   "cell_type": "code",
   "execution_count": 5,
   "id": "f87baffc-44ba-42a1-82be-b6c4f4c5b24a",
   "metadata": {},
   "outputs": [
    {
     "name": "stdout",
     "output_type": "stream",
     "text": [
      "[1]\n",
      "[1, 1]\n",
      "[1, 2, 1]\n",
      "[1, 3, 3, 1]\n",
      "[1, 4, 6, 4, 1]\n"
     ]
    }
   ],
   "source": [
    "def pascals_triangle(n):\n",
    "    triangle = [[1]]\n",
    "    for _ in range(1, n):\n",
    "        triangle.append([1] + [triangle[-1][i] + triangle[-1][i + 1] for i in range(len(triangle[-1]) - 1)] + [1])\n",
    "    for row in triangle:\n",
    "        print(row)\n",
    "\n",
    "pascals_triangle(5)\n"
   ]
  },
  {
   "cell_type": "code",
   "execution_count": 6,
   "id": "7ef68903-f2f1-4019-9271-d7ecac8863c6",
   "metadata": {},
   "outputs": [
    {
     "name": "stdout",
     "output_type": "stream",
     "text": [
      "[[4, 4], [10, 8]]\n"
     ]
    }
   ],
   "source": [
    "def matrix_multiply(A, B):\n",
    "    return [[sum(A[i][k] * B[k][j] for k in range(len(B))) for j in range(len(B[0]))] for i in range(len(A))]\n",
    "\n",
    "A = [[1, 2], [3, 4]]\n",
    "B = [[2, 0], [1, 2]]\n",
    "print(matrix_multiply(A, B))\n"
   ]
  },
  {
   "cell_type": "code",
   "execution_count": 7,
   "id": "9561044b-d5ab-4f9d-8fa6-e00610359179",
   "metadata": {},
   "outputs": [
    {
     "name": "stdout",
     "output_type": "stream",
     "text": [
      "5.0\n"
     ]
    }
   ],
   "source": [
    "def distance(x1, y1, x2, y2):\n",
    "    return ((x2 - x1)**2 + (y2 - y1)**2)**0.5\n",
    "\n",
    "print(distance(0, 0, 3, 4))\n"
   ]
  },
  {
   "cell_type": "code",
   "execution_count": 8,
   "id": "e7bd6e05-0322-4a75-ab40-5ddbfb6fd8ee",
   "metadata": {},
   "outputs": [
    {
     "name": "stdout",
     "output_type": "stream",
     "text": [
      "Special Character\n"
     ]
    }
   ],
   "source": [
    "def char_checker(char):\n",
    "    if char.isdigit():\n",
    "        return \"Digit\"\n",
    "    elif char.islower():\n",
    "        return \"Lowercase Letter\"\n",
    "    elif char.isupper():\n",
    "        return \"Uppercase Letter\"\n",
    "    else:\n",
    "        return \"Special Character\"\n",
    "\n",
    "print(char_checker(\"$\"))\n"
   ]
  },
  {
   "cell_type": "code",
   "execution_count": 9,
   "id": "8cccd1cf-7359-4237-8fce-f00e36ccd18d",
   "metadata": {},
   "outputs": [
    {
     "name": "stdout",
     "output_type": "stream",
     "text": [
      "True\n"
     ]
    }
   ],
   "source": [
    "def has_duplicates(lst):\n",
    "    return len(lst) != len(set(lst))\n",
    "\n",
    "print(has_duplicates([1, 2, 3, 1]))\n"
   ]
  },
  {
   "cell_type": "code",
   "execution_count": 10,
   "id": "639459d4-b7e4-497e-8439-02f74ad54f75",
   "metadata": {},
   "outputs": [
    {
     "name": "stdout",
     "output_type": "stream",
     "text": [
      "[1, 4, 9, 16, 25]\n"
     ]
    }
   ],
   "source": [
    "print([x**2 for x in range(1, 6)])\n"
   ]
  },
  {
   "cell_type": "code",
   "execution_count": 11,
   "id": "156bac6a-1457-41a6-8f62-e8b166556bbc",
   "metadata": {},
   "outputs": [
    {
     "name": "stdout",
     "output_type": "stream",
     "text": [
      "8\n"
     ]
    }
   ],
   "source": [
    "def max_in_list(lst):\n",
    "    return sorted(lst)[-1]\n",
    "\n",
    "print(max_in_list([3, 5, 2, 8]))\n"
   ]
  },
  {
   "cell_type": "code",
   "execution_count": 12,
   "id": "760f53c5-38f2-4d3d-a10a-38586d07d35b",
   "metadata": {},
   "outputs": [
    {
     "name": "stdout",
     "output_type": "stream",
     "text": [
      "[2, 4, 6, 8, 10]\n"
     ]
    }
   ],
   "source": [
    "print([x for x in range(1, 11) if x % 2 == 0])\n"
   ]
  },
  {
   "cell_type": "code",
   "execution_count": 13,
   "id": "bdda91c7-efda-46a8-a8dd-010a7e24f5ec",
   "metadata": {},
   "outputs": [
    {
     "name": "stdin",
     "output_type": "stream",
     "text": [
      "Enter a number (0 to stop):  4\n",
      "Enter a number (0 to stop):  6\n",
      "Enter a number (0 to stop):  8\n",
      "Enter a number (0 to stop):  0\n"
     ]
    },
    {
     "name": "stdout",
     "output_type": "stream",
     "text": [
      "Sum: 18 Max: 8 Min: 4\n"
     ]
    }
   ],
   "source": [
    "def calculate_stats():\n",
    "    nums = []\n",
    "    while (n := int(input(\"Enter a number (0 to stop): \"))) != 0:\n",
    "        nums.append(n)\n",
    "    print(\"Sum:\", sum(nums), \"Max:\", max(nums), \"Min:\", min(nums))\n",
    "\n",
    "calculate_stats()\n"
   ]
  },
  {
   "cell_type": "code",
   "execution_count": 14,
   "id": "19ade1cc-1444-4698-92cd-fa9367714b13",
   "metadata": {},
   "outputs": [
    {
     "name": "stdout",
     "output_type": "stream",
     "text": [
      "[1, 4, 9, 16]\n"
     ]
    }
   ],
   "source": [
    "print([x**2 for x in [1, 2, 3, 4]])\n"
   ]
  },
  {
   "cell_type": "code",
   "execution_count": 15,
   "id": "e4fe25d0-e7a5-43f8-af03-40fd0025a56b",
   "metadata": {},
   "outputs": [
    {
     "name": "stdout",
     "output_type": "stream",
     "text": [
      "90\n"
     ]
    }
   ],
   "source": [
    "student = {\"name\": \"John\", \"grades\": {\"math\": 90, \"science\": 85}}\n",
    "print(student[\"grades\"][\"math\"])\n"
   ]
  },
  {
   "cell_type": "code",
   "execution_count": 16,
   "id": "2f0f48dc-dc84-407e-aa4d-cb24582a7c5e",
   "metadata": {},
   "outputs": [
    {
     "name": "stdout",
     "output_type": "stream",
     "text": [
      "ab**cd**\n"
     ]
    }
   ],
   "source": [
    "import re\n",
    "def replace_digits(s):\n",
    "    return re.sub(r'\\d', '*', s)\n",
    "\n",
    "print(replace_digits(\"ab12cd34\"))\n"
   ]
  },
  {
   "cell_type": "code",
   "execution_count": 17,
   "id": "a5c4bfc0-88ba-4351-b7f8-a7e700c731a9",
   "metadata": {},
   "outputs": [
    {
     "name": "stdout",
     "output_type": "stream",
     "text": [
      "True\n"
     ]
    }
   ],
   "source": [
    "def validate_password(pw):\n",
    "    return any(char.isdigit() for char in pw) and len(pw) >= 6\n",
    "\n",
    "print(validate_password(\"pass123\"))\n"
   ]
  },
  {
   "cell_type": "code",
   "execution_count": 18,
   "id": "d309ab74-307d-46aa-9515-c9871d6237d8",
   "metadata": {},
   "outputs": [
    {
     "name": "stdout",
     "output_type": "stream",
     "text": [
      "True\n"
     ]
    }
   ],
   "source": [
    "def validate_date(date):\n",
    "    return bool(re.match(r\"^\\d{2}/\\d{2}/\\d{4}$\", date))\n",
    "\n",
    "print(validate_date(\"16/05/2025\"))\n"
   ]
  },
  {
   "cell_type": "code",
   "execution_count": 19,
   "id": "d0abc8f3-6aea-4585-b2f1-65c6ad7220b5",
   "metadata": {},
   "outputs": [
    {
     "name": "stdout",
     "output_type": "stream",
     "text": [
      "True\n"
     ]
    }
   ],
   "source": [
    "import re\n",
    "def validate_mobile(number):\n",
    "    return bool(re.match(r\"^[4-9]\\d{9}$\", number))\n",
    "\n",
    "print(validate_mobile(\"9876543210\"))\n"
   ]
  },
  {
   "cell_type": "code",
   "execution_count": 20,
   "id": "d1e58b6b-598d-41c4-9da8-3199fb6d958a",
   "metadata": {},
   "outputs": [
    {
     "name": "stdout",
     "output_type": "stream",
     "text": [
      "HelloWorld\n"
     ]
    }
   ],
   "source": [
    "import re\n",
    "def remove_special(s):\n",
    "    return re.sub(r'\\W+', '', s)\n",
    "\n",
    "print(remove_special(\"Hello!@# World.\"))\n"
   ]
  },
  {
   "cell_type": "code",
   "execution_count": 21,
   "id": "d7769cce-6485-46ad-ae73-efdd6120783b",
   "metadata": {},
   "outputs": [
    {
     "name": "stdout",
     "output_type": "stream",
     "text": [
      "20 18\n"
     ]
    }
   ],
   "source": [
    "class Rectangle:\n",
    "    def __init__(self, length, width):\n",
    "        self.length = length\n",
    "        self.width = width\n",
    "\n",
    "    def area(self):\n",
    "        return self.length * self.width\n",
    "\n",
    "    def perimeter(self):\n",
    "        return 2 * (self.length + self.width)\n",
    "\n",
    "rect = Rectangle(4, 5)\n",
    "print(rect.area(), rect.perimeter())\n"
   ]
  },
  {
   "cell_type": "code",
   "execution_count": 22,
   "id": "d153f902-f505-49c4-8b9f-949db48c93b8",
   "metadata": {},
   "outputs": [
    {
     "name": "stdout",
     "output_type": "stream",
     "text": [
      "30\n"
     ]
    }
   ],
   "source": [
    "class BankAccount:\n",
    "    def __init__(self, balance=0):\n",
    "        self.balance = balance\n",
    "\n",
    "    def deposit(self, amount):\n",
    "        self.balance += amount\n",
    "\n",
    "    def withdraw(self, amount):\n",
    "        if amount > self.balance:\n",
    "            print(\"Insufficient funds!\")\n",
    "        else:\n",
    "            self.balance -= amount\n",
    "\n",
    "account = BankAccount(100)\n",
    "account.deposit(50)\n",
    "account.withdraw(120)\n",
    "print(account.balance)\n"
   ]
  },
  {
   "cell_type": "code",
   "execution_count": null,
   "id": "d71c4746-e5dd-4c0e-a588-001b3c67450a",
   "metadata": {},
   "outputs": [],
   "source": []
  }
 ],
 "metadata": {
  "kernelspec": {
   "display_name": "Python 3 (ipykernel)",
   "language": "python",
   "name": "python3"
  },
  "language_info": {
   "codemirror_mode": {
    "name": "ipython",
    "version": 3
   },
   "file_extension": ".py",
   "mimetype": "text/x-python",
   "name": "python",
   "nbconvert_exporter": "python",
   "pygments_lexer": "ipython3",
   "version": "3.12.7"
  }
 },
 "nbformat": 4,
 "nbformat_minor": 5
}
